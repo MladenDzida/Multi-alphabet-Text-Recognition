{
 "cells": [
  {
   "cell_type": "code",
   "execution_count": null,
   "id": "840729eb",
   "metadata": {},
   "outputs": [],
   "source": [
    "# | default_exp xml_parser"
   ]
  },
  {
   "cell_type": "code",
   "execution_count": null,
   "id": "4fd2532a",
   "metadata": {},
   "outputs": [],
   "source": [
    "# | export\n",
    "from typing import List\n",
    "import xml.etree.ElementTree as ET"
   ]
  },
  {
   "cell_type": "code",
   "execution_count": null,
   "id": "d1e2f7ad",
   "metadata": {},
   "outputs": [],
   "source": [
    "# | export\n",
    "def read_kaist_xml(path: str) -> List[str]:\n",
    "    try:\n",
    "        tree = ET.parse(path)\n",
    "        root = tree.getroot()\n",
    "\n",
    "        all_words = []\n",
    "        words_positions = []\n",
    "        for word in root[0][2]:\n",
    "            word_list = []\n",
    "            for letter_index in range(len(word)):\n",
    "                word_list.append(word[letter_index].attrib['char'])\n",
    "            all_words.append(''.join(word_list))\n",
    "            words_positions.append((int(word.attrib['x']), int(word.attrib['y']), int(word.attrib['width']), int(word.attrib['height'])))\n",
    "        return (all_words, True, words_positions)\n",
    "    except:\n",
    "        return ([], False, [])"
   ]
  },
  {
   "cell_type": "code",
   "execution_count": null,
   "id": "f769c2f2",
   "metadata": {},
   "outputs": [
    {
     "name": "stdout",
     "output_type": "stream",
     "text": [
      "(['정보전자공학부', 'ESchooloflfomtionosnraandlectrnic'], True, [('49', '183', '567', '78'), ('77', '234', '496', '33')])\n"
     ]
    }
   ],
   "source": [
    "from pathlib import Path\n",
    "for image_name in Path('../../datasets/korean/KAIST/Korean/Digital_Camera').glob('*.jpg'):\n",
    "    xml_path = str(image_name)[0:-3] + 'xml'\n",
    "    print(read_kaist_xml(xml_path))\n",
    "    break"
   ]
  }
 ],
 "metadata": {
  "kernelspec": {
   "display_name": "python3",
   "language": "python",
   "name": "python3"
  }
 },
 "nbformat": 4,
 "nbformat_minor": 5
}
