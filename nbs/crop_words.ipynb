{
 "cells": [
  {
   "cell_type": "code",
   "execution_count": null,
   "id": "600d674a",
   "metadata": {},
   "outputs": [],
   "source": [
    "# | default_exp cropping"
   ]
  },
  {
   "cell_type": "code",
   "execution_count": null,
   "id": "5d4eee01",
   "metadata": {},
   "outputs": [],
   "source": [
    "# | export\n",
    "import cv2\n",
    "from pathlib import Path"
   ]
  },
  {
   "cell_type": "code",
   "execution_count": null,
   "id": "30dc132c",
   "metadata": {},
   "outputs": [],
   "source": [
    "# | export\n",
    "\n",
    "# def crop_text_from_image_japanese():\n",
    "#     for el in (root[1][2]):\n",
    "#         if el.text:\n",
    "#             print(el.text, el.attrib)\n",
    "#             width = int(el.attrib['xmax']) - int(el.attrib['xmin'])\n",
    "#             height = int(el.attrib['ymax']) - int(el.attrib['ymin'])\n",
    "#             x = int(el.attrib['xmin'])\n",
    "#             y = int(el.attrib['ymin'])\n",
    "#             # Crop image to specified area using slicing\n",
    "#             crop_img = img[y:y+height, x:x+width]\n",
    "#             # Show image\n",
    "#             cv2.imshow(\"cropped\", crop_img)\n",
    "#             cv2.waitKey(0)\n",
    "            \n",
    "def crop_text_from_image_korean(img_path, x, y, width, height, image_save_path):\n",
    "    img = cv2.imread(img_path)\n",
    "    # Crop image to specified area using slicing\n",
    "    crop_img = img[y:y+height, x:x+width]\n",
    "    # Show image\n",
    "    cv2.imshow(\"cropped\", crop_img)\n",
    "#     cv2.waitKey(0)\n",
    "    \n",
    "    if not Path(image_save_path).exists():\n",
    "#         cv2.imwrite(image_save_path, crop_img)\n",
    "        cv2.imencode(\".jpg\", crop_img)[1].tofile(image_save_path)"
   ]
  }
 ],
 "metadata": {
  "kernelspec": {
   "display_name": "python3",
   "language": "python",
   "name": "python3"
  }
 },
 "nbformat": 4,
 "nbformat_minor": 5
}
